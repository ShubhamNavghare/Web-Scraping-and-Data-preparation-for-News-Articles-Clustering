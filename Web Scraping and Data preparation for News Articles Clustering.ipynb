{
 "cells": [
  {
   "cell_type": "markdown",
   "id": "ae4e448d",
   "metadata": {},
   "source": [
    "# Importing Modules and URL for Web Scraping"
   ]
  },
  {
   "cell_type": "code",
   "execution_count": 1,
   "id": "112b9b01",
   "metadata": {},
   "outputs": [],
   "source": [
    "import pandas as pd\n",
    "import requests\n",
    "from bs4 import BeautifulSoup\n",
    "url = \"https://www.opindia.com/latest-news/\"\n",
    "data = requests.get(url)"
   ]
  },
  {
   "cell_type": "code",
   "execution_count": 2,
   "id": "be5ef3b2",
   "metadata": {},
   "outputs": [
    {
     "data": {
      "text/plain": [
       "<Response [200]>"
      ]
     },
     "execution_count": 2,
     "metadata": {},
     "output_type": "execute_result"
    }
   ],
   "source": [
    "data"
   ]
  },
  {
   "cell_type": "code",
   "execution_count": 3,
   "id": "c0f6dfb4",
   "metadata": {},
   "outputs": [],
   "source": [
    "#data.content It will show the raw html format."
   ]
  },
  {
   "cell_type": "markdown",
   "id": "2d6d1298",
   "metadata": {},
   "source": [
    "For Converting Raw html format to formatted html we will use Soup"
   ]
  },
  {
   "cell_type": "code",
   "execution_count": 4,
   "id": "09726b88",
   "metadata": {},
   "outputs": [],
   "source": [
    "soup = BeautifulSoup(data.content,\"html.parser\")"
   ]
  },
  {
   "cell_type": "markdown",
   "id": "969bec67",
   "metadata": {},
   "source": [
    "# Create a function to fetch the headlines from URL"
   ]
  },
  {
   "cell_type": "code",
   "execution_count": 5,
   "id": "fd402c3d",
   "metadata": {},
   "outputs": [],
   "source": [
    "def fetch_article(url):\n",
    "    data = requests.get(url)\n",
    "    soup = BeautifulSoup(data.content,\"html.parser\")\n",
    "    articles = []\n",
    "    for i in soup.find_all(\"h3\",class_ = [\"entry-title td-module-title\"]):\n",
    "        articles.append(i.find('a')['title'])     \n",
    "    return articles"
   ]
  },
  {
   "cell_type": "code",
   "execution_count": 6,
   "id": "764e5ce1",
   "metadata": {},
   "outputs": [],
   "source": [
    "urllist = []\n",
    "for i in range(2,21,1):\n",
    "    url = \"https://www.opindia.com/latest-news/page/\" + str(i) + \"/\"\n",
    "    urllist.append(url)"
   ]
  },
  {
   "cell_type": "markdown",
   "id": "0b6cccf7",
   "metadata": {},
   "source": [
    "Created urllist funtion to fetch all articles on different pages of website."
   ]
  },
  {
   "cell_type": "code",
   "execution_count": 7,
   "id": "19df3c07",
   "metadata": {},
   "outputs": [
    {
     "data": {
      "text/plain": [
       "['https://www.opindia.com/latest-news/page/2/',\n",
       " 'https://www.opindia.com/latest-news/page/3/',\n",
       " 'https://www.opindia.com/latest-news/page/4/',\n",
       " 'https://www.opindia.com/latest-news/page/5/',\n",
       " 'https://www.opindia.com/latest-news/page/6/',\n",
       " 'https://www.opindia.com/latest-news/page/7/',\n",
       " 'https://www.opindia.com/latest-news/page/8/',\n",
       " 'https://www.opindia.com/latest-news/page/9/',\n",
       " 'https://www.opindia.com/latest-news/page/10/',\n",
       " 'https://www.opindia.com/latest-news/page/11/',\n",
       " 'https://www.opindia.com/latest-news/page/12/',\n",
       " 'https://www.opindia.com/latest-news/page/13/',\n",
       " 'https://www.opindia.com/latest-news/page/14/',\n",
       " 'https://www.opindia.com/latest-news/page/15/',\n",
       " 'https://www.opindia.com/latest-news/page/16/',\n",
       " 'https://www.opindia.com/latest-news/page/17/',\n",
       " 'https://www.opindia.com/latest-news/page/18/',\n",
       " 'https://www.opindia.com/latest-news/page/19/',\n",
       " 'https://www.opindia.com/latest-news/page/20/']"
      ]
     },
     "execution_count": 7,
     "metadata": {},
     "output_type": "execute_result"
    }
   ],
   "source": [
    "urllist"
   ]
  },
  {
   "cell_type": "code",
   "execution_count": 8,
   "id": "b70bf273",
   "metadata": {},
   "outputs": [],
   "source": [
    "all_articles = []\n",
    "for i in urllist:\n",
    "    all_articles.extend(fetch_article(i))"
   ]
  },
  {
   "cell_type": "markdown",
   "id": "b5eceeb9",
   "metadata": {},
   "source": [
    "# Preprocessing of the Data"
   ]
  },
  {
   "cell_type": "code",
   "execution_count": 9,
   "id": "3aa75814",
   "metadata": {},
   "outputs": [],
   "source": [
    "p_art =[]\n",
    "for i in all_articles:\n",
    "    q = i.upper()\n",
    "    import re\n",
    "    q = re.sub(\"[^A-Z0-9 ]\",\"\",q)\n",
    "    from nltk.stem import PorterStemmer\n",
    "    tk_q = q.split(\" \")\n",
    "    sent = \"\"\n",
    "    for j in tk_q:\n",
    "        ps = PorterStemmer()\n",
    "        sent = sent + \" \" + ps.stem(j).upper()\n",
    "    p_art.append(sent)"
   ]
  },
  {
   "cell_type": "markdown",
   "id": "46cbefd4",
   "metadata": {},
   "source": [
    "# Vectorize the Data"
   ]
  },
  {
   "cell_type": "code",
   "execution_count": 10,
   "id": "46e5bfee",
   "metadata": {},
   "outputs": [],
   "source": [
    "from sklearn.feature_extraction.text import TfidfVectorizer\n",
    "tf = TfidfVectorizer()\n",
    "A = tf.fit_transform(p_art).toarray()"
   ]
  },
  {
   "cell_type": "markdown",
   "id": "f463bf5b",
   "metadata": {},
   "source": [
    "# Clustering of the Data"
   ]
  },
  {
   "cell_type": "code",
   "execution_count": 11,
   "id": "fe295e4e",
   "metadata": {},
   "outputs": [],
   "source": [
    "from sklearn.cluster import KMeans\n",
    "km = KMeans(n_clusters=5)\n",
    "cl_res = km.fit(A)"
   ]
  },
  {
   "cell_type": "code",
   "execution_count": 12,
   "id": "f9d7c9b3",
   "metadata": {},
   "outputs": [
    {
     "data": {
      "text/plain": [
       "array([3, 2, 0, ..., 1, 1, 1])"
      ]
     },
     "execution_count": 12,
     "metadata": {},
     "output_type": "execute_result"
    }
   ],
   "source": [
    "cl_res.labels_"
   ]
  },
  {
   "cell_type": "code",
   "execution_count": 13,
   "id": "adba14f5",
   "metadata": {},
   "outputs": [],
   "source": [
    "Q = pd.DataFrame(p_art,columns=[\"Article\"])\n",
    "Q['Cluster']=cl_res.labels_"
   ]
  },
  {
   "cell_type": "code",
   "execution_count": 15,
   "id": "b31cd0b7",
   "metadata": {},
   "outputs": [
    {
     "data": {
      "text/html": [
       "<div>\n",
       "<style scoped>\n",
       "    .dataframe tbody tr th:only-of-type {\n",
       "        vertical-align: middle;\n",
       "    }\n",
       "\n",
       "    .dataframe tbody tr th {\n",
       "        vertical-align: top;\n",
       "    }\n",
       "\n",
       "    .dataframe thead th {\n",
       "        text-align: right;\n",
       "    }\n",
       "</style>\n",
       "<table border=\"1\" class=\"dataframe\">\n",
       "  <thead>\n",
       "    <tr style=\"text-align: right;\">\n",
       "      <th></th>\n",
       "      <th>Article</th>\n",
       "      <th>Cluster</th>\n",
       "    </tr>\n",
       "  </thead>\n",
       "  <tbody>\n",
       "    <tr>\n",
       "      <th>0</th>\n",
       "      <td>BJP PASMANDA OUTREACH COULD BE A GAME CHANGER...</td>\n",
       "      <td>3</td>\n",
       "    </tr>\n",
       "    <tr>\n",
       "      <th>1</th>\n",
       "      <td>THE ANATOMI OF PROTEST THE DEVIL THE PEOPL TH...</td>\n",
       "      <td>2</td>\n",
       "    </tr>\n",
       "    <tr>\n",
       "      <th>2</th>\n",
       "      <td>PASMANDA OUTREACH BY BJP OBC MORCHA DEMAND 50...</td>\n",
       "      <td>0</td>\n",
       "    </tr>\n",
       "    <tr>\n",
       "      <th>3</th>\n",
       "      <td>AAP MLA AMANATULLAH KHAN COME TO TERRORACCUS ...</td>\n",
       "      <td>1</td>\n",
       "    </tr>\n",
       "    <tr>\n",
       "      <th>4</th>\n",
       "      <td>NIRBHAYA MOTHER SLAM ASHOK GEHLOT WHO CONTINU...</td>\n",
       "      <td>1</td>\n",
       "    </tr>\n",
       "    <tr>\n",
       "      <th>...</th>\n",
       "      <td>...</td>\n",
       "      <td>...</td>\n",
       "    </tr>\n",
       "    <tr>\n",
       "      <th>1971</th>\n",
       "      <td>EKNATH SHIND GOVT IN MAHARASHTRA WIN THE  FLO...</td>\n",
       "      <td>1</td>\n",
       "    </tr>\n",
       "    <tr>\n",
       "      <th>1972</th>\n",
       "      <td>AMRAVATI BEFOR KOLH MURDER THREE MORE PEOPL H...</td>\n",
       "      <td>1</td>\n",
       "    </tr>\n",
       "    <tr>\n",
       "      <th>1973</th>\n",
       "      <td>DMK MP A RAJA EMBOLDEN RAHUL GANDHI CONCEPT O...</td>\n",
       "      <td>1</td>\n",
       "    </tr>\n",
       "    <tr>\n",
       "      <th>1974</th>\n",
       "      <td>HINDU LIVE MATTER IS A DANGER SLOGAN AFTER KA...</td>\n",
       "      <td>1</td>\n",
       "    </tr>\n",
       "    <tr>\n",
       "      <th>1975</th>\n",
       "      <td>DELHI NEIGHBOUR ATTACK FAMILI WITH AN IRON RO...</td>\n",
       "      <td>1</td>\n",
       "    </tr>\n",
       "  </tbody>\n",
       "</table>\n",
       "<p>1976 rows × 2 columns</p>\n",
       "</div>"
      ],
      "text/plain": [
       "                                                Article  Cluster\n",
       "0      BJP PASMANDA OUTREACH COULD BE A GAME CHANGER...        3\n",
       "1      THE ANATOMI OF PROTEST THE DEVIL THE PEOPL TH...        2\n",
       "2      PASMANDA OUTREACH BY BJP OBC MORCHA DEMAND 50...        0\n",
       "3      AAP MLA AMANATULLAH KHAN COME TO TERRORACCUS ...        1\n",
       "4      NIRBHAYA MOTHER SLAM ASHOK GEHLOT WHO CONTINU...        1\n",
       "...                                                 ...      ...\n",
       "1971   EKNATH SHIND GOVT IN MAHARASHTRA WIN THE  FLO...        1\n",
       "1972   AMRAVATI BEFOR KOLH MURDER THREE MORE PEOPL H...        1\n",
       "1973   DMK MP A RAJA EMBOLDEN RAHUL GANDHI CONCEPT O...        1\n",
       "1974   HINDU LIVE MATTER IS A DANGER SLOGAN AFTER KA...        1\n",
       "1975   DELHI NEIGHBOUR ATTACK FAMILI WITH AN IRON RO...        1\n",
       "\n",
       "[1976 rows x 2 columns]"
      ]
     },
     "execution_count": 15,
     "metadata": {},
     "output_type": "execute_result"
    }
   ],
   "source": [
    "Q"
   ]
  },
  {
   "cell_type": "code",
   "execution_count": 16,
   "id": "fa788918",
   "metadata": {},
   "outputs": [],
   "source": [
    "E = {1 : \"politics\",\n",
    "2 : \"religion\",\n",
    "3 : \"sports\",\n",
    "4 : \"entertainment\",\n",
    "0 : \"geopolitics\"}"
   ]
  },
  {
   "cell_type": "code",
   "execution_count": 17,
   "id": "458f4215",
   "metadata": {},
   "outputs": [],
   "source": [
    "R = []\n",
    "for i in Q.Cluster:\n",
    "    R.append(E[i])\n",
    "\n",
    "Q['category'] = R"
   ]
  },
  {
   "cell_type": "code",
   "execution_count": 18,
   "id": "d38ad3de",
   "metadata": {},
   "outputs": [
    {
     "data": {
      "text/html": [
       "<div>\n",
       "<style scoped>\n",
       "    .dataframe tbody tr th:only-of-type {\n",
       "        vertical-align: middle;\n",
       "    }\n",
       "\n",
       "    .dataframe tbody tr th {\n",
       "        vertical-align: top;\n",
       "    }\n",
       "\n",
       "    .dataframe thead th {\n",
       "        text-align: right;\n",
       "    }\n",
       "</style>\n",
       "<table border=\"1\" class=\"dataframe\">\n",
       "  <thead>\n",
       "    <tr style=\"text-align: right;\">\n",
       "      <th></th>\n",
       "      <th>Article</th>\n",
       "      <th>Cluster</th>\n",
       "      <th>category</th>\n",
       "    </tr>\n",
       "  </thead>\n",
       "  <tbody>\n",
       "    <tr>\n",
       "      <th>0</th>\n",
       "      <td>BJP PASMANDA OUTREACH COULD BE A GAME CHANGER...</td>\n",
       "      <td>3</td>\n",
       "      <td>sports</td>\n",
       "    </tr>\n",
       "    <tr>\n",
       "      <th>1</th>\n",
       "      <td>THE ANATOMI OF PROTEST THE DEVIL THE PEOPL TH...</td>\n",
       "      <td>2</td>\n",
       "      <td>religion</td>\n",
       "    </tr>\n",
       "    <tr>\n",
       "      <th>2</th>\n",
       "      <td>PASMANDA OUTREACH BY BJP OBC MORCHA DEMAND 50...</td>\n",
       "      <td>0</td>\n",
       "      <td>geopolitics</td>\n",
       "    </tr>\n",
       "    <tr>\n",
       "      <th>3</th>\n",
       "      <td>AAP MLA AMANATULLAH KHAN COME TO TERRORACCUS ...</td>\n",
       "      <td>1</td>\n",
       "      <td>politics</td>\n",
       "    </tr>\n",
       "    <tr>\n",
       "      <th>4</th>\n",
       "      <td>NIRBHAYA MOTHER SLAM ASHOK GEHLOT WHO CONTINU...</td>\n",
       "      <td>1</td>\n",
       "      <td>politics</td>\n",
       "    </tr>\n",
       "    <tr>\n",
       "      <th>...</th>\n",
       "      <td>...</td>\n",
       "      <td>...</td>\n",
       "      <td>...</td>\n",
       "    </tr>\n",
       "    <tr>\n",
       "      <th>1971</th>\n",
       "      <td>EKNATH SHIND GOVT IN MAHARASHTRA WIN THE  FLO...</td>\n",
       "      <td>1</td>\n",
       "      <td>politics</td>\n",
       "    </tr>\n",
       "    <tr>\n",
       "      <th>1972</th>\n",
       "      <td>AMRAVATI BEFOR KOLH MURDER THREE MORE PEOPL H...</td>\n",
       "      <td>1</td>\n",
       "      <td>politics</td>\n",
       "    </tr>\n",
       "    <tr>\n",
       "      <th>1973</th>\n",
       "      <td>DMK MP A RAJA EMBOLDEN RAHUL GANDHI CONCEPT O...</td>\n",
       "      <td>1</td>\n",
       "      <td>politics</td>\n",
       "    </tr>\n",
       "    <tr>\n",
       "      <th>1974</th>\n",
       "      <td>HINDU LIVE MATTER IS A DANGER SLOGAN AFTER KA...</td>\n",
       "      <td>1</td>\n",
       "      <td>politics</td>\n",
       "    </tr>\n",
       "    <tr>\n",
       "      <th>1975</th>\n",
       "      <td>DELHI NEIGHBOUR ATTACK FAMILI WITH AN IRON RO...</td>\n",
       "      <td>1</td>\n",
       "      <td>politics</td>\n",
       "    </tr>\n",
       "  </tbody>\n",
       "</table>\n",
       "<p>1976 rows × 3 columns</p>\n",
       "</div>"
      ],
      "text/plain": [
       "                                                Article  Cluster     category\n",
       "0      BJP PASMANDA OUTREACH COULD BE A GAME CHANGER...        3       sports\n",
       "1      THE ANATOMI OF PROTEST THE DEVIL THE PEOPL TH...        2     religion\n",
       "2      PASMANDA OUTREACH BY BJP OBC MORCHA DEMAND 50...        0  geopolitics\n",
       "3      AAP MLA AMANATULLAH KHAN COME TO TERRORACCUS ...        1     politics\n",
       "4      NIRBHAYA MOTHER SLAM ASHOK GEHLOT WHO CONTINU...        1     politics\n",
       "...                                                 ...      ...          ...\n",
       "1971   EKNATH SHIND GOVT IN MAHARASHTRA WIN THE  FLO...        1     politics\n",
       "1972   AMRAVATI BEFOR KOLH MURDER THREE MORE PEOPL H...        1     politics\n",
       "1973   DMK MP A RAJA EMBOLDEN RAHUL GANDHI CONCEPT O...        1     politics\n",
       "1974   HINDU LIVE MATTER IS A DANGER SLOGAN AFTER KA...        1     politics\n",
       "1975   DELHI NEIGHBOUR ATTACK FAMILI WITH AN IRON RO...        1     politics\n",
       "\n",
       "[1976 rows x 3 columns]"
      ]
     },
     "execution_count": 18,
     "metadata": {},
     "output_type": "execute_result"
    }
   ],
   "source": [
    "Q"
   ]
  },
  {
   "cell_type": "code",
   "execution_count": null,
   "id": "53051de2",
   "metadata": {},
   "outputs": [],
   "source": []
  }
 ],
 "metadata": {
  "kernelspec": {
   "display_name": "Python 3",
   "language": "python",
   "name": "python3"
  },
  "language_info": {
   "codemirror_mode": {
    "name": "ipython",
    "version": 3
   },
   "file_extension": ".py",
   "mimetype": "text/x-python",
   "name": "python",
   "nbconvert_exporter": "python",
   "pygments_lexer": "ipython3",
   "version": "3.8.8"
  }
 },
 "nbformat": 4,
 "nbformat_minor": 5
}
